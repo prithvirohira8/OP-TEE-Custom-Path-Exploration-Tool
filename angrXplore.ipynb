{
 "cells": [
  {
   "cell_type": "code",
   "execution_count": 11,
   "metadata": {},
   "outputs": [],
   "source": [
    "import angr\n",
    "import archinfo\n",
    "arch = archinfo.ArchAArch64()"
   ]
  },
  {
   "cell_type": "code",
   "execution_count": 12,
   "metadata": {},
   "outputs": [],
   "source": [
    "# Loading the elf fila and creating a project\n",
    "path_to_binary = './tee.elf'\n",
    "proj = angr.Project(path_to_binary, auto_load_libs=False)"
   ]
  },
  {
   "cell_type": "code",
   "execution_count": 13,
   "metadata": {},
   "outputs": [
    {
     "name": "stderr",
     "output_type": "stream",
     "text": [
      "WARNING  | 2024-05-13 22:37:31,596 | claripy.vsa.strided_interval | Tried to cast_low an interval to an interval shorter than its stride.\n",
      "WARNING  | 2024-05-13 22:37:37,237 | claripy.vsa.strided_interval | Tried to cast_low an interval to an interval shorter than its stride.\n"
     ]
    }
   ],
   "source": [
    "cfg = proj.analyses.CFG()"
   ]
  },
  {
   "cell_type": "code",
   "execution_count": 14,
   "metadata": {},
   "outputs": [
    {
     "data": {
      "text/plain": [
       "<angr.exploration_techniques.local_loop_seer.LocalLoopSeer at 0x73f01a19b040>"
      ]
     },
     "execution_count": 14,
     "metadata": {},
     "output_type": "execute_result"
    }
   ],
   "source": [
    "# Creating a initial state and simulation manager to perform symbolic execution on the particular function.\n",
    "function_name = \"syscall_open_ta_session\"\n",
    "function_address = proj.loader.find_symbol(function_name).rebased_addr\n",
    "initial_state = proj.factory.blank_state(addr=function_address)\n",
    "simgr = proj.factory.simulation_manager(initial_state, save_unconstrained=True)\n",
    "\n",
    "# Defining functions to perform backtracking\n",
    "def get_node_from_address(address):\n",
    "    all_nodes = list(cfg.graph.nodes)\n",
    "    for node in all_nodes:\n",
    "        if node.addr == address:\n",
    "            return node\n",
    "    return None\n",
    "\n",
    "def handle_spin_to_backtrack(LocalLoopSeer, succ_state):\n",
    "    LocalLoopSeer.cut_succs.append(succ_state)\n",
    "\n",
    "# Exploring with Breadth First Search (Default) and Local flag Seer to detect loops\n",
    "simgr.use_technique(angr.exploration_techniques.LocalLoopSeer(bound=1, bound_reached=handle_spin_to_backtrack))"
   ]
  },
  {
   "cell_type": "code",
   "execution_count": null,
   "metadata": {},
   "outputs": [],
   "source": [
    "# Exploring with Depth First Search (Optional)\n",
    "from angr.exploration_techniques import DFS\n",
    "simgr.use_technique(DFS())"
   ]
  },
  {
   "cell_type": "code",
   "execution_count": 15,
   "metadata": {},
   "outputs": [],
   "source": [
    "# Exploration Handler Functions\n",
    "def get_function_name(project, current_pc):\n",
    "    try:\n",
    "        function = cfg.functions[current_pc]\n",
    "\n",
    "    except (KeyError, AttributeError) as e:\n",
    "        pass\n",
    "    \n",
    "def isValid(addr):\n",
    "    try:\n",
    "        proj.factory.block(int(addr, 16))\n",
    "        return True\n",
    "    except:\n",
    "        return False"
   ]
  },
  {
   "cell_type": "code",
   "execution_count": 16,
   "metadata": {},
   "outputs": [],
   "source": [
    "# Initializing Variables\n",
    "count = 0\n",
    "level = 1\n",
    "first_iter = True\n",
    "branch_address_1 = None\n",
    "branch_address_2 = None\n",
    "branch_addresses = []\n",
    "flag = True"
   ]
  },
  {
   "cell_type": "code",
   "execution_count": 10,
   "metadata": {},
   "outputs": [
    {
     "name": "stderr",
     "output_type": "stream",
     "text": [
      "WARNING  | 2024-05-13 22:30:35,394 | angr.storage.memory_mixins.default_filler_mixin | Filling register x29 with 8 unconstrained bytes referenced from 0xe12a40c (syscall_open_ta_session+0x0 in tee.elf (0xe12a40c))\n",
      "WARNING  | 2024-05-13 22:30:35,396 | angr.storage.memory_mixins.default_filler_mixin | Filling register x30 with 8 unconstrained bytes referenced from 0xe12a40c (syscall_open_ta_session+0x0 in tee.elf (0xe12a40c))\n",
      "WARNING  | 2024-05-13 22:30:35,398 | angr.storage.memory_mixins.default_filler_mixin | Filling register x21 with 8 unconstrained bytes referenced from 0xe12a414 (syscall_open_ta_session+0x8 in tee.elf (0xe12a414))\n",
      "WARNING  | 2024-05-13 22:30:35,400 | angr.storage.memory_mixins.default_filler_mixin | Filling register x22 with 8 unconstrained bytes referenced from 0xe12a414 (syscall_open_ta_session+0x8 in tee.elf (0xe12a414))\n",
      "WARNING  | 2024-05-13 22:30:35,401 | angr.storage.memory_mixins.default_filler_mixin | Filling register x2 with 8 unconstrained bytes referenced from 0xe12a414 (syscall_open_ta_session+0x8 in tee.elf (0xe12a414))\n",
      "WARNING  | 2024-05-13 22:30:35,403 | angr.storage.memory_mixins.default_filler_mixin | Filling register x19 with 8 unconstrained bytes referenced from 0xe12a420 (syscall_open_ta_session+0x14 in tee.elf (0xe12a420))\n",
      "WARNING  | 2024-05-13 22:30:35,404 | angr.storage.memory_mixins.default_filler_mixin | Filling register x20 with 8 unconstrained bytes referenced from 0xe12a420 (syscall_open_ta_session+0x14 in tee.elf (0xe12a420))\n",
      "WARNING  | 2024-05-13 22:30:35,406 | angr.storage.memory_mixins.default_filler_mixin | Filling register x0 with 8 unconstrained bytes referenced from 0xe12a420 (syscall_open_ta_session+0x14 in tee.elf (0xe12a420))\n",
      "WARNING  | 2024-05-13 22:30:35,408 | angr.storage.memory_mixins.default_filler_mixin | Filling register x23 with 8 unconstrained bytes referenced from 0xe12a42c (syscall_open_ta_session+0x20 in tee.elf (0xe12a42c))\n",
      "WARNING  | 2024-05-13 22:30:35,411 | angr.storage.memory_mixins.default_filler_mixin | Filling register x24 with 8 unconstrained bytes referenced from 0xe12a42c (syscall_open_ta_session+0x20 in tee.elf (0xe12a42c))\n",
      "WARNING  | 2024-05-13 22:30:35,412 | angr.storage.memory_mixins.default_filler_mixin | Filling register x3 with 8 unconstrained bytes referenced from 0xe12a42c (syscall_open_ta_session+0x20 in tee.elf (0xe12a42c))\n",
      "WARNING  | 2024-05-13 22:30:35,414 | angr.storage.memory_mixins.default_filler_mixin | Filling register x25 with 8 unconstrained bytes referenced from 0xe12a434 (syscall_open_ta_session+0x28 in tee.elf (0xe12a434))\n",
      "WARNING  | 2024-05-13 22:30:35,415 | angr.storage.memory_mixins.default_filler_mixin | Filling register x26 with 8 unconstrained bytes referenced from 0xe12a434 (syscall_open_ta_session+0x28 in tee.elf (0xe12a434))\n",
      "WARNING  | 2024-05-13 22:30:35,416 | angr.storage.memory_mixins.default_filler_mixin | Filling register x4 with 8 unconstrained bytes referenced from 0xe12a434 (syscall_open_ta_session+0x28 in tee.elf (0xe12a434))\n",
      "WARNING  | 2024-05-13 22:30:35,418 | angr.storage.memory_mixins.default_filler_mixin | Filling register x27 with 8 unconstrained bytes referenced from 0xe12a43c (syscall_open_ta_session+0x30 in tee.elf (0xe12a43c))\n",
      "WARNING  | 2024-05-13 22:30:35,419 | angr.storage.memory_mixins.default_filler_mixin | Filling register x28 with 8 unconstrained bytes referenced from 0xe12a43c (syscall_open_ta_session+0x30 in tee.elf (0xe12a43c))\n",
      "WARNING  | 2024-05-13 22:30:35,420 | angr.storage.memory_mixins.default_filler_mixin | Filling register x1 with 8 unconstrained bytes referenced from 0xe12a440 (syscall_open_ta_session+0x34 in tee.elf (0xe12a440))\n",
      "WARNING  | 2024-05-13 22:30:35,421 | angr.storage.memory_mixins.default_filler_mixin | Filling memory at 0x1c2881c0 with 8 unconstrained bytes referenced from 0xe12a444 (syscall_open_ta_session+0x38 in tee.elf (0xe12a444))\n",
      "WARNING  | 2024-05-13 22:30:35,438 | angr.storage.memory_mixins.default_filler_mixin | Filling register x0 with 8 unconstrained bytes referenced from 0xe12a454 (syscall_open_ta_session+0x48 in tee.elf (0xe12a454))\n"
     ]
    },
    {
     "name": "stdout",
     "output_type": "stream",
     "text": [
      "Level:  1\n",
      "[236102740, 236027460]\n",
      "Level:  2\n",
      "Level:  3\n",
      "[236102740, 236027472, 236027436, 236102752, 236100852]\n"
     ]
    },
    {
     "name": "stderr",
     "output_type": "stream",
     "text": [
      "WARNING  | 2024-05-13 22:30:35,597 | angr.storage.memory_mixins.default_filler_mixin | Filling memory at 0x12 with 8 unconstrained bytes referenced from 0xe12a458 (syscall_open_ta_session+0x4c in tee.elf (0xe12a458))\n",
      "WARNING  | 2024-05-13 22:30:35,617 | angr.storage.memory_mixins.default_filler_mixin | Filling register x29 with 8 unconstrained bytes referenced from 0xe129cf4 (to_user_ta_ctx+0x0 in tee.elf (0xe129cf4))\n",
      "WARNING  | 2024-05-13 22:30:35,620 | angr.storage.memory_mixins.default_filler_mixin | Filling register x19 with 8 unconstrained bytes referenced from 0xe129cfc (to_user_ta_ctx+0x8 in tee.elf (0xe129cfc))\n"
     ]
    },
    {
     "name": "stdout",
     "output_type": "stream",
     "text": [
      "Level:  4\n",
      "Level:  5\n",
      "[236027448, 236039548, 236100872, 236040648]\n",
      "Level:  6\n",
      "Level:  7\n",
      "[236100872, 236039560, 236039144, 236040652]\n",
      "Level:  8\n",
      "Level:  9\n",
      "Level:  10\n",
      "[236040652, 236039156, 236039024, 236040684, 236040672, 236040676]\n"
     ]
    },
    {
     "name": "stderr",
     "output_type": "stream",
     "text": [
      "WARNING  | 2024-05-13 22:30:35,836 | angr.storage.memory_mixins.default_filler_mixin | Filling memory at 0xfffffffffffffff0 with 8 unconstrained bytes referenced from 0xe11b1cc (is_user_ta_ctx+0x4 in tee.elf (0xe11b1cc))\n",
      "WARNING  | 2024-05-13 22:30:35,966 | angr.storage.memory_mixins.default_filler_mixin | Filling register x20 with 8 unconstrained bytes referenced from 0xe15cdd8 (malloc+0x8 in tee.elf (0xe15cdd8))\n",
      "WARNING  | 2024-05-13 22:30:35,967 | angr.storage.memory_mixins.default_filler_mixin | Filling register x21 with 8 unconstrained bytes referenced from 0xe15cde8 (malloc+0x18 in tee.elf (0xe15cde8))\n",
      "WARNING  | 2024-05-13 22:30:35,971 | angr.storage.memory_mixins.default_filler_mixin | Filling register x20 with 8 unconstrained bytes referenced from 0xe15ebd4 (trace_printf+0x8 in tee.elf (0xe15ebd4))\n",
      "WARNING  | 2024-05-13 22:30:35,972 | angr.storage.memory_mixins.default_filler_mixin | Filling register x21 with 8 unconstrained bytes referenced from 0xe15ebe4 (trace_printf+0x18 in tee.elf (0xe15ebe4))\n",
      "WARNING  | 2024-05-13 22:30:35,973 | angr.storage.memory_mixins.default_filler_mixin | Filling register x22 with 8 unconstrained bytes referenced from 0xe15ebe4 (trace_printf+0x18 in tee.elf (0xe15ebe4))\n",
      "WARNING  | 2024-05-13 22:30:35,974 | angr.storage.memory_mixins.default_filler_mixin | Filling register x23 with 8 unconstrained bytes referenced from 0xe15ebec (trace_printf+0x20 in tee.elf (0xe15ebec))\n",
      "WARNING  | 2024-05-13 22:30:35,976 | angr.storage.memory_mixins.default_filler_mixin | Filling register x24 with 8 unconstrained bytes referenced from 0xe15ebec (trace_printf+0x20 in tee.elf (0xe15ebec))\n",
      "WARNING  | 2024-05-13 22:30:35,980 | angr.storage.memory_mixins.default_filler_mixin | Filling memory at 0x1c2881c0 with 8 unconstrained bytes referenced from 0xe15ec0c (trace_printf+0x40 in tee.elf (0xe15ec0c))\n",
      "WARNING  | 2024-05-13 22:30:35,985 | angr.storage.memory_mixins.default_filler_mixin | Filling register x29 with 8 unconstrained bytes referenced from 0xe1121d8 (_assert_break+0x0 in tee.elf (0xe1121d8))\n",
      "WARNING  | 2024-05-13 22:30:36,007 | angr.storage.memory_mixins.default_filler_mixin | Filling register x22 with 8 unconstrained bytes referenced from 0xe15c3c4 (malloc_lock.constprop.0+0x10 in tee.elf (0xe15c3c4))\n",
      "WARNING  | 2024-05-13 22:30:36,008 | angr.storage.memory_mixins.default_filler_mixin | Filling register x23 with 8 unconstrained bytes referenced from 0xe15c3c8 (malloc_lock.constprop.0+0x14 in tee.elf (0xe15c3c8))\n",
      "WARNING  | 2024-05-13 22:30:36,010 | angr.storage.memory_mixins.default_filler_mixin | Filling register x24 with 8 unconstrained bytes referenced from 0xe15c3c8 (malloc_lock.constprop.0+0x14 in tee.elf (0xe15c3c8))\n",
      "WARNING  | 2024-05-13 22:30:36,018 | angr.storage.memory_mixins.default_filler_mixin | Filling register x19 with 8 unconstrained bytes referenced from 0xe1165b0 (__do_panic+0xc in tee.elf (0xe1165b0))\n",
      "WARNING  | 2024-05-13 22:30:36,019 | angr.storage.memory_mixins.default_filler_mixin | Filling register x20 with 8 unconstrained bytes referenced from 0xe1165b0 (__do_panic+0xc in tee.elf (0xe1165b0))\n",
      "WARNING  | 2024-05-13 22:30:36,021 | angr.storage.memory_mixins.default_filler_mixin | Filling register x21 with 8 unconstrained bytes referenced from 0xe1165c0 (__do_panic+0x1c in tee.elf (0xe1165c0))\n",
      "WARNING  | 2024-05-13 22:30:36,022 | angr.storage.memory_mixins.default_filler_mixin | Filling register x22 with 8 unconstrained bytes referenced from 0xe1165c0 (__do_panic+0x1c in tee.elf (0xe1165c0))\n"
     ]
    },
    {
     "name": "stdout",
     "output_type": "stream",
     "text": [
      "Level:  11\n",
      "Level:  12\n",
      "Level:  13\n",
      "[236040684, 236040676, 236039044, 235948680, 236040676, 236100880, 236100916]\n",
      "Level:  14\n",
      "Level:  15\n",
      "Level:  16\n",
      "Level:  17\n",
      "[236040676, 236100916, 235948700, 235948428, 236100880, 236100916, 236100932, 236100912, 236003732]\n",
      "Level:  18\n",
      "Level:  19\n",
      "Level:  20\n",
      "Level:  21\n",
      "[236100932, 236100912, 235948440, 236102776, 236309968, 236003788, 236317644, 236100916, 236003800]\n",
      "Level:  22\n",
      "Level:  23\n",
      "Level:  24\n",
      "Level:  25\n",
      "[236003788, 236100916, 235948712, 235948584, 236310000, 236307380, 236317760, 235944128, 236003836, 236021156]\n",
      "Level:  26\n",
      "Level:  27\n",
      "Level:  28\n",
      "Level:  29\n",
      "[236310000, 236317760, 236003836, 235948608, 236307408, 235948680, 235944136, 235944328, 236021200, 235948680]\n",
      "Level:  30\n",
      "Level:  31\n",
      "Level:  32\n",
      "Level:  33\n",
      "[236021200, 235948680, 235948700, 235948428, 235948700, 235948428, 236021208]\n"
     ]
    },
    {
     "name": "stderr",
     "output_type": "stream",
     "text": [
      "WARNING  | 2024-05-13 22:30:36,063 | angr.storage.memory_mixins.default_filler_mixin | Filling register x19 with 8 unconstrained bytes referenced from 0xe1165d0 (__do_panic+0x2c in tee.elf (0xe1165d0))\n",
      "WARNING  | 2024-05-13 22:30:36,064 | angr.storage.memory_mixins.default_filler_mixin | Filling register x21 with 8 unconstrained bytes referenced from 0xe1165d0 (__do_panic+0x2c in tee.elf (0xe1165d0))\n",
      "WARNING  | 2024-05-13 22:30:36,125 | angr.storage.memory_mixins.default_filler_mixin | Filling register x20 with 8 unconstrained bytes referenced from 0xe116630 (__do_panic+0x8c in tee.elf (0xe116630))\n",
      "WARNING  | 2024-05-13 22:30:36,161 | angr.storage.memory_mixins.default_filler_mixin | Filling register x20 with 8 unconstrained bytes referenced from 0xe1165d8 (__do_panic+0x34 in tee.elf (0xe1165d8))\n",
      "WARNING  | 2024-05-13 22:30:36,239 | angr.storage.memory_mixins.default_filler_mixin | Filling register x29 with 8 unconstrained bytes referenced from 0xe104998 (select_vector_wa_spectre_bhb+0x0 in tee.elf (0xe104998))\n",
      "WARNING  | 2024-05-13 22:30:36,240 | angr.storage.memory_mixins.default_filler_mixin | Filling register x30 with 8 unconstrained bytes referenced from 0xe104998 (select_vector_wa_spectre_bhb+0x0 in tee.elf (0xe104998))\n",
      "WARNING  | 2024-05-13 22:30:36,241 | angr.storage.memory_mixins.default_filler_mixin | Filling register x19 with 8 unconstrained bytes referenced from 0xe1049a0 (select_vector_wa_spectre_bhb+0x8 in tee.elf (0xe1049a0))\n",
      "WARNING  | 2024-05-13 22:30:36,242 | angr.storage.memory_mixins.default_filler_mixin | Filling register x0 with 8 unconstrained bytes referenced from 0xe1049a0 (select_vector_wa_spectre_bhb+0x8 in tee.elf (0xe1049a0))\n"
     ]
    },
    {
     "name": "stdout",
     "output_type": "stream",
     "text": [
      "Level:  34\n",
      "Level:  35\n",
      "Level:  36\n",
      "Level:  37\n",
      "Level:  38\n",
      "[235948700, 236021208, 235948728, 235948440, 235948440, 236021300, 236021212]\n",
      "Level:  39\n",
      "Level:  40\n",
      "Level:  41\n",
      "Level:  42\n",
      "Level:  43\n",
      "Level:  44\n",
      "Level:  45\n",
      "Level:  46\n",
      "[235948440, 236021300, 236039052, 236038484, 235948712, 235948584, 235948712, 235948584, 236021424, 236021316, 236021320, 236021456, 236021336, 236021236, 236317644, 235948460, 235948428]\n",
      "Level:  47\n",
      "Level:  48\n",
      "Level:  49\n",
      "Level:  50\n",
      "Level:  51\n",
      "Level:  52\n",
      "Level:  53\n",
      "Level:  54\n",
      "Level:  55\n",
      "Level:  56\n",
      "[235948712, 236021424, 236021320, 236021456, 236021236, 235948460, 236038496, 236037024, 235948608, 235948608, 236021320, 236021336, 236021336, 236021400, 236317644, 236317760, 235944128, 235948440, 236021476, 236021352]\n"
     ]
    },
    {
     "name": "stderr",
     "output_type": "stream",
     "text": [
      "WARNING  | 2024-05-13 22:30:36,337 | angr.storage.memory_mixins.default_filler_mixin | Filling register x29 with 8 unconstrained bytes referenced from 0xe15ebcc (trace_printf+0x0 in tee.elf (0xe15ebcc))\n",
      "WARNING  | 2024-05-13 22:30:36,340 | angr.storage.memory_mixins.default_filler_mixin | Filling register x22 with 8 unconstrained bytes referenced from 0xe15ebe4 (trace_printf+0x18 in tee.elf (0xe15ebe4))\n",
      "WARNING  | 2024-05-13 22:30:36,341 | angr.storage.memory_mixins.default_filler_mixin | Filling register x23 with 8 unconstrained bytes referenced from 0xe15ebec (trace_printf+0x20 in tee.elf (0xe15ebec))\n",
      "WARNING  | 2024-05-13 22:30:36,342 | angr.storage.memory_mixins.default_filler_mixin | Filling register x24 with 8 unconstrained bytes referenced from 0xe15ebec (trace_printf+0x20 in tee.elf (0xe15ebec))\n",
      "WARNING  | 2024-05-13 22:30:36,343 | angr.storage.memory_mixins.default_filler_mixin | Filling register x5 with 8 unconstrained bytes referenced from 0xe15ebf8 (trace_printf+0x2c in tee.elf (0xe15ebf8))\n",
      "WARNING  | 2024-05-13 22:30:36,345 | angr.storage.memory_mixins.default_filler_mixin | Filling register x6 with 8 unconstrained bytes referenced from 0xe15ebf8 (trace_printf+0x2c in tee.elf (0xe15ebf8))\n",
      "WARNING  | 2024-05-13 22:30:36,347 | angr.storage.memory_mixins.default_filler_mixin | Filling register x7 with 8 unconstrained bytes referenced from 0xe15ec04 (trace_printf+0x38 in tee.elf (0xe15ec04))\n",
      "WARNING  | 2024-05-13 22:30:36,349 | angr.storage.memory_mixins.default_filler_mixin | Filling memory at 0x1c2881c0 with 8 unconstrained bytes referenced from 0xe15ec0c (trace_printf+0x40 in tee.elf (0xe15ec0c))\n",
      "WARNING  | 2024-05-13 22:30:36,435 | angr.storage.memory_mixins.default_filler_mixin | Filling register x22 with 8 unconstrained bytes referenced from 0xe116670 (__do_panic+0xcc in tee.elf (0xe116670))\n",
      "WARNING  | 2024-05-13 22:30:36,439 | angr.storage.memory_mixins.default_filler_mixin | Filling register x29 with 8 unconstrained bytes referenced from 0xe15ebcc (trace_printf+0x0 in tee.elf (0xe15ebcc))\n",
      "WARNING  | 2024-05-13 22:30:36,442 | angr.storage.memory_mixins.default_filler_mixin | Filling register x23 with 8 unconstrained bytes referenced from 0xe15ebec (trace_printf+0x20 in tee.elf (0xe15ebec))\n",
      "WARNING  | 2024-05-13 22:30:36,443 | angr.storage.memory_mixins.default_filler_mixin | Filling register x24 with 8 unconstrained bytes referenced from 0xe15ebec (trace_printf+0x20 in tee.elf (0xe15ebec))\n",
      "WARNING  | 2024-05-13 22:30:36,446 | angr.storage.memory_mixins.default_filler_mixin | Filling memory at 0x1c2881c0 with 8 unconstrained bytes referenced from 0xe15ec0c (trace_printf+0x40 in tee.elf (0xe15ec0c))\n",
      "WARNING  | 2024-05-13 22:30:36,489 | angr.storage.memory_mixins.default_filler_mixin | Filling register x19 with 8 unconstrained bytes referenced from 0xe116668 (__do_panic+0xc4 in tee.elf (0xe116668))\n",
      "WARNING  | 2024-05-13 22:30:36,490 | angr.storage.memory_mixins.default_filler_mixin | Filling register x20 with 8 unconstrained bytes referenced from 0xe116668 (__do_panic+0xc4 in tee.elf (0xe116668))\n",
      "WARNING  | 2024-05-13 22:30:36,491 | angr.storage.memory_mixins.default_filler_mixin | Filling register x22 with 8 unconstrained bytes referenced from 0xe116670 (__do_panic+0xcc in tee.elf (0xe116670))\n",
      "WARNING  | 2024-05-13 22:30:36,493 | angr.storage.memory_mixins.default_filler_mixin | Filling register x21 with 8 unconstrained bytes referenced from 0xe116678 (__do_panic+0xd4 in tee.elf (0xe116678))\n",
      "WARNING  | 2024-05-13 22:30:36,497 | angr.storage.memory_mixins.default_filler_mixin | Filling register x3 with 8 unconstrained bytes referenced from 0xe1166e4 (__do_panic+0x140 in tee.elf (0xe1166e4))\n"
     ]
    },
    {
     "name": "stdout",
     "output_type": "stream",
     "text": [
      "Level:  57\n",
      "Level:  58\n",
      "Level:  59\n",
      "Level:  60\n",
      "Level:  61\n",
      "Level:  62\n",
      "Level:  63\n",
      "Level:  64\n",
      "Level:  65\n",
      "Level:  66\n",
      "Level:  67\n",
      "Level:  68\n",
      "[235948608, 235948608, 236021336, 236021400, 236317760, 235948440, 236021476, 236037036, 235948428, 235948680, 235948680, 236021336, 236021336, 236021400, 236317644, 236317760, 235944128, 235944136, 235944328, 235948464, 236021400, 236317644, 235948612, 236003680, 236021488]\n"
     ]
    },
    {
     "name": "stderr",
     "output_type": "stream",
     "text": [
      "WARNING  | 2024-05-13 22:30:36,680 | angr.engines.successors | Exit state has over 256 possible solutions. Likely unconstrained; skipping. <BV64 reg_x3_1545_64{UNINITIALIZED}>\n",
      "WARNING  | 2024-05-13 22:30:36,744 | angr.storage.memory_mixins.default_filler_mixin | Filling register x29 with 8 unconstrained bytes referenced from 0xe15ebcc (trace_printf+0x0 in tee.elf (0xe15ebcc))\n",
      "WARNING  | 2024-05-13 22:30:36,748 | angr.storage.memory_mixins.default_filler_mixin | Filling register x23 with 8 unconstrained bytes referenced from 0xe15ebec (trace_printf+0x20 in tee.elf (0xe15ebec))\n",
      "WARNING  | 2024-05-13 22:30:36,749 | angr.storage.memory_mixins.default_filler_mixin | Filling register x24 with 8 unconstrained bytes referenced from 0xe15ebec (trace_printf+0x20 in tee.elf (0xe15ebec))\n",
      "WARNING  | 2024-05-13 22:30:36,752 | angr.storage.memory_mixins.default_filler_mixin | Filling memory at 0x1c2881c0 with 8 unconstrained bytes referenced from 0xe15ec0c (trace_printf+0x40 in tee.elf (0xe15ec0c))\n",
      "WARNING  | 2024-05-13 22:30:36,766 | angr.storage.memory_mixins.default_filler_mixin | Filling register x29 with 8 unconstrained bytes referenced from 0xe15ebcc (trace_printf+0x0 in tee.elf (0xe15ebcc))\n",
      "WARNING  | 2024-05-13 22:30:36,769 | angr.storage.memory_mixins.default_filler_mixin | Filling register x23 with 8 unconstrained bytes referenced from 0xe15ebec (trace_printf+0x20 in tee.elf (0xe15ebec))\n",
      "WARNING  | 2024-05-13 22:30:36,770 | angr.storage.memory_mixins.default_filler_mixin | Filling register x24 with 8 unconstrained bytes referenced from 0xe15ebec (trace_printf+0x20 in tee.elf (0xe15ebec))\n",
      "WARNING  | 2024-05-13 22:30:36,772 | angr.storage.memory_mixins.default_filler_mixin | Filling register x5 with 8 unconstrained bytes referenced from 0xe15ebf8 (trace_printf+0x2c in tee.elf (0xe15ebf8))\n",
      "WARNING  | 2024-05-13 22:30:36,773 | angr.storage.memory_mixins.default_filler_mixin | Filling register x7 with 8 unconstrained bytes referenced from 0xe15ec04 (trace_printf+0x38 in tee.elf (0xe15ec04))\n",
      "WARNING  | 2024-05-13 22:30:36,774 | angr.storage.memory_mixins.default_filler_mixin | Filling memory at 0x1c2881c0 with 8 unconstrained bytes referenced from 0xe15ec0c (trace_printf+0x40 in tee.elf (0xe15ec0c))\n",
      "WARNING  | 2024-05-13 22:30:36,779 | angr.storage.memory_mixins.default_filler_mixin | Filling register x29 with 8 unconstrained bytes referenced from 0xe112160 (have_spinlock+0x0 in tee.elf (0xe112160))\n",
      "WARNING  | 2024-05-13 22:30:36,784 | angr.storage.memory_mixins.default_filler_mixin | Filling register x21 with 8 unconstrained bytes referenced from 0xe15ec40 (trace_printf+0x74 in tee.elf (0xe15ec40))\n",
      "WARNING  | 2024-05-13 22:30:36,786 | angr.storage.memory_mixins.default_filler_mixin | Filling register x0 with 8 unconstrained bytes referenced from 0xe15ec40 (trace_printf+0x74 in tee.elf (0xe15ec40))\n",
      "WARNING  | 2024-05-13 22:30:36,786 | angr.storage.memory_mixins.default_filler_mixin | Filling register x23 with 8 unconstrained bytes referenced from 0xe15ec40 (trace_printf+0x74 in tee.elf (0xe15ec40))\n",
      "WARNING  | 2024-05-13 22:30:36,787 | angr.storage.memory_mixins.default_filler_mixin | Filling register x20 with 8 unconstrained bytes referenced from 0xe15ec40 (trace_printf+0x74 in tee.elf (0xe15ec40))\n",
      "WARNING  | 2024-05-13 22:30:36,788 | angr.storage.memory_mixins.default_filler_mixin | Filling register x24 with 8 unconstrained bytes referenced from 0xe15ec40 (trace_printf+0x74 in tee.elf (0xe15ec40))\n",
      "WARNING  | 2024-05-13 22:30:36,789 | angr.storage.memory_mixins.default_filler_mixin | Filling register x22 with 8 unconstrained bytes referenced from 0xe15ec40 (trace_printf+0x74 in tee.elf (0xe15ec40))\n",
      "WARNING  | 2024-05-13 22:30:36,867 | angr.storage.memory_mixins.default_filler_mixin | Filling register x22 with 8 unconstrained bytes referenced from 0xe116670 (__do_panic+0xcc in tee.elf (0xe116670))\n",
      "WARNING  | 2024-05-13 22:30:36,894 | angr.storage.memory_mixins.default_filler_mixin | Filling register x0 with 8 unconstrained bytes referenced from 0xe10498c (thread_get_exceptions+0x0 in tee.elf (0xe10498c))\n",
      "WARNING  | 2024-05-13 22:30:36,901 | angr.storage.memory_mixins.default_filler_mixin | Filling register x29 with 8 unconstrained bytes referenced from 0xe15e954 (trace_vprintf+0x0 in tee.elf (0xe15e954))\n",
      "WARNING  | 2024-05-13 22:30:36,903 | angr.storage.memory_mixins.default_filler_mixin | Filling register x25 with 8 unconstrained bytes referenced from 0xe15e95c (trace_vprintf+0x8 in tee.elf (0xe15e95c))\n",
      "WARNING  | 2024-05-13 22:30:36,905 | angr.storage.memory_mixins.default_filler_mixin | Filling register x26 with 8 unconstrained bytes referenced from 0xe15e95c (trace_vprintf+0x8 in tee.elf (0xe15e95c))\n",
      "WARNING  | 2024-05-13 22:30:36,910 | angr.storage.memory_mixins.default_filler_mixin | Filling register x19 with 8 unconstrained bytes referenced from 0xe15e978 (trace_vprintf+0x24 in tee.elf (0xe15e978))\n",
      "WARNING  | 2024-05-13 22:30:36,913 | angr.storage.memory_mixins.default_filler_mixin | Filling register x27 with 8 unconstrained bytes referenced from 0xe15e98c (trace_vprintf+0x38 in tee.elf (0xe15e98c))\n",
      "WARNING  | 2024-05-13 22:30:36,915 | angr.storage.memory_mixins.default_filler_mixin | Filling register x28 with 8 unconstrained bytes referenced from 0xe15e98c (trace_vprintf+0x38 in tee.elf (0xe15e98c))\n",
      "WARNING  | 2024-05-13 22:30:36,918 | angr.storage.memory_mixins.default_filler_mixin | Filling memory at 0x1c2881c0 with 8 unconstrained bytes referenced from 0xe15e994 (trace_vprintf+0x40 in tee.elf (0xe15e994))\n"
     ]
    },
    {
     "name": "stdout",
     "output_type": "stream",
     "text": [
      "Level:  69\n",
      "Level:  70\n",
      "Level:  71\n",
      "Level:  72\n",
      "Level:  73\n",
      "Level:  74\n",
      "Level:  75\n",
      "Level:  76\n",
      "Level:  77\n",
      "Level:  78\n",
      "Level:  79\n",
      "Level:  80\n",
      "Level:  81\n",
      "Level:  82\n",
      "[236021336, 236021400, 236317760, 235944128, 235944328, 236021400, 236317644, 235948612, 236021488, 235948440, 235948728, 235948728, 236021476, 236021352, 236021476, 236021352, 236317760, 235944128, 235944136, 235944328, 235944148, 235944344, 235948500, 235936072, 235948496, 235947912, 236317760, 235944128, 236003692, 235948428, 236021404, 236021236, 236317788, 236317012]\n",
      "Level:  83\n",
      "Level:  84\n",
      "Level:  85\n",
      "Level:  86\n",
      "Level:  87\n",
      "Level:  88\n",
      "Level:  89\n",
      "Level:  90\n",
      "Level:  91\n",
      "Level:  92\n",
      "Level:  93\n",
      "Level:  94\n",
      "Level:  95\n",
      "Level:  96\n",
      "Level:  97\n",
      "[236021476, 236021476, 236317760, 235944136, 235944328, 235944344, 235948500, 235948496, 236317760, 236003692, 236021404, 236317788, 236037040, 236307416, 235948428, 236021208, 236021400, 236317644, 236021400, 236317644, 235944136, 235944328, 235944148, 235944344, 235944224, 235944176, 235936080, 235936080, 235947924, 236003732, 235944136, 235944328, 235948440, 236021240, 235962940, 236317092, 236317508, 235948524, 236038484]\n"
     ]
    },
    {
     "name": "stderr",
     "output_type": "stream",
     "text": [
      "WARNING  | 2024-05-13 22:30:36,961 | angr.storage.memory_mixins.default_filler_mixin | Filling register x0 with 8 unconstrained bytes referenced from 0xe1049d4 (select_vector_wa_spectre_bhb+0x3c in tee.elf (0xe1049d4))\n",
      "WARNING  | 2024-05-13 22:30:36,964 | angr.storage.memory_mixins.default_filler_mixin | Filling register x19 with 8 unconstrained bytes referenced from 0xe1049e4 (select_vector_wa_spectre_bhb+0x4c in tee.elf (0xe1049e4))\n",
      "WARNING  | 2024-05-13 22:30:37,161 | angr.storage.memory_mixins.default_filler_mixin | Filling register x29 with 8 unconstrained bytes referenced from 0xe15ebcc (trace_printf+0x0 in tee.elf (0xe15ebcc))\n",
      "WARNING  | 2024-05-13 22:30:37,165 | angr.storage.memory_mixins.default_filler_mixin | Filling register x23 with 8 unconstrained bytes referenced from 0xe15ebec (trace_printf+0x20 in tee.elf (0xe15ebec))\n",
      "WARNING  | 2024-05-13 22:30:37,166 | angr.storage.memory_mixins.default_filler_mixin | Filling register x24 with 8 unconstrained bytes referenced from 0xe15ebec (trace_printf+0x20 in tee.elf (0xe15ebec))\n",
      "WARNING  | 2024-05-13 22:30:37,169 | angr.storage.memory_mixins.default_filler_mixin | Filling memory at 0x1c2881c0 with 8 unconstrained bytes referenced from 0xe15ec0c (trace_printf+0x40 in tee.elf (0xe15ec0c))\n",
      "WARNING  | 2024-05-13 22:30:37,174 | angr.storage.memory_mixins.default_filler_mixin | Filling register x29 with 8 unconstrained bytes referenced from 0xe15ebcc (trace_printf+0x0 in tee.elf (0xe15ebcc))\n",
      "WARNING  | 2024-05-13 22:30:37,178 | angr.storage.memory_mixins.default_filler_mixin | Filling register x23 with 8 unconstrained bytes referenced from 0xe15ebec (trace_printf+0x20 in tee.elf (0xe15ebec))\n",
      "WARNING  | 2024-05-13 22:30:37,180 | angr.storage.memory_mixins.default_filler_mixin | Filling register x24 with 8 unconstrained bytes referenced from 0xe15ebec (trace_printf+0x20 in tee.elf (0xe15ebec))\n",
      "WARNING  | 2024-05-13 22:30:37,184 | angr.storage.memory_mixins.default_filler_mixin | Filling memory at 0x1c2881c0 with 8 unconstrained bytes referenced from 0xe15ec0c (trace_printf+0x40 in tee.elf (0xe15ec0c))\n",
      "WARNING  | 2024-05-13 22:30:37,257 | angr.storage.memory_mixins.default_filler_mixin | Filling register x29 with 8 unconstrained bytes referenced from 0xe10823c (print_kernel_stack+0x0 in tee.elf (0xe10823c))\n",
      "WARNING  | 2024-05-13 22:30:37,259 | angr.storage.memory_mixins.default_filler_mixin | Filling register x19 with 8 unconstrained bytes referenced from 0xe108244 (print_kernel_stack+0x8 in tee.elf (0xe108244))\n",
      "WARNING  | 2024-05-13 22:30:37,260 | angr.storage.memory_mixins.default_filler_mixin | Filling memory at 0x1c2881c0 with 8 unconstrained bytes referenced from 0xe108250 (print_kernel_stack+0x14 in tee.elf (0xe108250))\n",
      "WARNING  | 2024-05-13 22:30:37,266 | angr.storage.memory_mixins.default_filler_mixin | Filling memory at 0x1c2881cc with 4 unconstrained bytes referenced from 0xe15e9a8 (trace_vprintf+0x54 in tee.elf (0xe15e9a8))\n",
      "WARNING  | 2024-05-13 22:30:37,307 | angr.storage.memory_mixins.default_filler_mixin | Filling register x29 with 8 unconstrained bytes referenced from 0xe11a954 (thread_get_core_local+0x0 in tee.elf (0xe11a954))\n",
      "WARNING  | 2024-05-13 22:30:37,311 | angr.storage.memory_mixins.default_filler_mixin | Filling register x0 with 8 unconstrained bytes referenced from 0xe103988 (memcpy+0xc8 in tee.elf (0xe103988))\n",
      "WARNING  | 2024-05-13 22:30:37,312 | angr.storage.memory_mixins.default_filler_mixin | Filling register x2 with 8 unconstrained bytes referenced from 0xe103988 (memcpy+0xc8 in tee.elf (0xe103988))\n"
     ]
    },
    {
     "name": "stdout",
     "output_type": "stream",
     "text": [
      "Level:  98\n",
      "Level:  99\n",
      "Level:  100\n",
      "Level:  101\n",
      "Level:  102\n",
      "Level:  103\n",
      "Level:  104\n",
      "Level:  105\n",
      "Level:  106\n",
      "Level:  107\n",
      "Level:  108\n",
      "Level:  109\n",
      "Level:  110\n",
      "Level:  111\n",
      "Level:  112\n",
      "Level:  113\n",
      "Level:  114\n",
      "Level:  115\n",
      "Level:  116\n",
      "Level:  117\n",
      "[236021400, 236021400, 235944136, 235944328, 235944344, 235944176, 235936080, 235947924, 235944136, 235944328, 235948440, 236021240, 236317092, 235948524, 236037072, 236036884, 235948440, 236021300, 236317760, 235944128, 236317760, 235944128, 235944148, 235944344, 235944224, 235944176, 235944240, 235944356, 235936108, 236003788, 236317644, 235944148, 235944344, 236003696, 235963024, 236317644, 236317516, 236317128, 236317108, 236317480, 236038496, 236037024, 236021404, 236021236, 235944340, 235947928, 236003800, 236021244, 236012544]\n"
     ]
    }
   ],
   "source": [
    "while flag:\n",
    "    for state in simgr.active:\n",
    "\n",
    "        print('Simgr.active - ', simgr.active)\n",
    "        print(\"Level: \", level)\n",
    "        level += 1\n",
    "\n",
    "        branch_address_2 = None\n",
    "        branch_address_1 = None\n",
    "        # Get the current memory address as an integer\n",
    "        current_pc = state.regs.pc\n",
    "\n",
    "        try:\n",
    "            # Convert BitVector to integer for printing\n",
    "            current_pc_int = current_pc.args[0]\n",
    "            print(f\"Current Address: {hex(current_pc_int)}\")\n",
    "        except Exception as e:\n",
    "            pass\n",
    "            # print(f\"Error converting PC to integer: {e}\")\n",
    "        current_block = proj.factory.block(state.addr)\n",
    "        print(\"Current block instructions:\")\n",
    "        branch_insn = None\n",
    "        for insn in current_block.capstone.insns:\n",
    "            if insn == None:\n",
    "                break\n",
    "            branch_insn = insn\n",
    "            print(f\"{insn.mnemonic} {insn.op_str}\")\n",
    "        if branch_insn == None:\n",
    "            continue\n",
    "        branch_address_1 = branch_insn.address+4\n",
    "        branch_addresses.append(branch_address_1)\n",
    "        branch_address_2 = branch_insn.op_str.split(\",\")[-1][1:]\n",
    "        try:\n",
    "            if isValid(branch_address_2):\n",
    "                branch_address_2 = int(branch_address_2, 16)\n",
    "                branch_addresses.append(branch_address_2)\n",
    "        except ValueError:\n",
    "            pass\n",
    "        get_function_name(proj, current_pc_int)\n",
    "        print(\"-----------------------------\")\n",
    "    if flag == False:\n",
    "        break\n",
    "    print(branch_addresses)\n",
    "    simgr.step()\n",
    "    for b_addr in branch_addresses:\n",
    "        add = True\n",
    "        for state in simgr.active:\n",
    "            if b_addr == state.addr:\n",
    "                add = False\n",
    "        if add:\n",
    "            count = count + 1\n",
    "            state = proj.factory.blank_state(addr=b_addr) # inherit parent properties here\n",
    "            simgr.active.append(state)\n",
    "        else:\n",
    "            branch_addresses.remove(b_addr)\n",
    "\n",
    "    if not first_iter:\n",
    "        while count > 0:\n",
    "            pop_addr = branch_addresses.pop(0)\n",
    "            for state in simgr.active:\n",
    "                if state.addr == pop_addr:\n",
    "                    simgr.active.remove(state)\n",
    "            count = count - 1\n",
    "    first_iter = False\n",
    "    \n",
    "    if level > 100:\n",
    "        break"
   ]
  },
  {
   "cell_type": "code",
   "execution_count": null,
   "metadata": {},
   "outputs": [],
   "source": [
    "vars(simgr)"
   ]
  },
  {
   "cell_type": "code",
   "execution_count": null,
   "metadata": {},
   "outputs": [],
   "source": [
    "print(flag)"
   ]
  }
 ],
 "metadata": {
  "kernelspec": {
   "display_name": "Python 3 (ipykernel)",
   "language": "python",
   "name": "python3"
  },
  "language_info": {
   "codemirror_mode": {
    "name": "ipython",
    "version": 3
   },
   "file_extension": ".py",
   "mimetype": "text/x-python",
   "name": "python",
   "nbconvert_exporter": "python",
   "pygments_lexer": "ipython3",
   "version": "3.10.12"
  }
 },
 "nbformat": 4,
 "nbformat_minor": 4
}
